{
 "cells": [
  {
   "cell_type": "markdown",
   "metadata": {},
   "source": [
    "# Label and Data Noise in Machine Learning Datasets\n",
    "This notebook presents a simple example of label noise as well as data noise for common machine learning datasets. <br/>\n",
    "For a simple walkthrough, this notebook presents MNIST, including (CASE A) no noise, (CASE B) symmetric label noise and (CASE C) salt&pepper data noise."
   ]
  },
  {
   "cell_type": "code",
   "execution_count": null,
   "metadata": {},
   "outputs": [],
   "source": [
    "# IMPORTS\n",
    "import torch\n",
    "import torch.nn as nn\n",
    "import torchvision\n",
    "from src import data_load, noise, train, utils, test\n",
    "import os\n",
    "import glob\n",
    "import json\n",
    "root = os.getcwd()\n",
    "print(root)"
   ]
  },
  {
   "cell_type": "markdown",
   "metadata": {},
   "source": [
    "## CASE A: No Noise\n",
    "In this case no further noise is injected, it is therefore the default MNIST classification example. <br/>\n",
    "First, these settings are defined. <br/>\n",
    "Second, given these settings, the data is loaded from data_load.py. In this file label and data noise are handled. <br/>\n",
    "Third, a model is trained to classify MNIST."
   ]
  },
  {
   "cell_type": "code",
   "execution_count": null,
   "metadata": {},
   "outputs": [],
   "source": [
    "# General imports, considering MNIST as database, simple ResNet-18 as model\n",
    "dataset = 'MNIST'\n",
    "setting = 'no_noise'\n",
    "hp_file = glob.glob(root + '/params/' + dataset + '/' + setting + '.json')[0]\n",
    "with open(hp_file) as json_file:\n",
    "    hp = json.load(json_file)\n",
    "    for k in hp.keys():\n",
    "        print(f\"{k:21}: {hp[k]}\")\n",
    "params_a = utils.Params(hp_file)\n",
    "\n",
    "if params_a.net == 'resnet18':\n",
    "    model_a = torchvision.models.resnet18(num_classes=10)\n",
    "    model_a.conv1 = nn.Conv2d(1, 64, kernel_size=7, stride=2, padding=3,\n",
    "                               bias=False)"
   ]
  },
  {
   "cell_type": "code",
   "execution_count": null,
   "metadata": {},
   "outputs": [],
   "source": [
    "# Get dataloader\n",
    "if params_a.dataset_class_name == 'MNIST':  # current error on LeCun's website\n",
    "    !wget www.di.ens.fr/~lelarge/MNIST.tar.gz\n",
    "    !tar -zxvf MNIST.tar.gz\n",
    "train_loader_a, val_loader_a, test_loader_a = data_load.dataloader(params_a)"
   ]
  },
  {
   "cell_type": "code",
   "execution_count": null,
   "metadata": {},
   "outputs": [],
   "source": [
    "# Train a model\n",
    "model_a = train.get_trained_model(params_a, model_a, train_loader_a, val_loader_a)"
   ]
  },
  {
   "cell_type": "code",
   "execution_count": null,
   "metadata": {},
   "outputs": [],
   "source": [
    "acc_a = test.evaluate(params_a, model_a, test_loader_a)"
   ]
  },
  {
   "cell_type": "markdown",
   "metadata": {},
   "source": [
    "## CASE B: Symmetric Label Noise\n",
    "In this case symmetric label noise is injected. <br/>\n",
    "First, these settings are defined. <br/>\n",
    "Second, given these settings, the data is loaded from data_load.py. In this file label and data noise are handled. <br/>\n",
    "Third, a model is trained to classify MNIST."
   ]
  },
  {
   "cell_type": "code",
   "execution_count": null,
   "metadata": {},
   "outputs": [],
   "source": [
    "# General imports, considering MNIST as database, simple ResNet-18 as model\n",
    "dataset = 'MNIST'\n",
    "setting = 'symmetric_noise'\n",
    "hp_file = glob.glob(root + '/params/' + dataset + '/' + setting + '.json')[0]\n",
    "with open(hp_file) as json_file:\n",
    "    hp = json.load(json_file)\n",
    "    for k in hp.keys():\n",
    "        print(f\"{k:21}: {hp[k]}\")\n",
    "params_b = utils.Params(hp_file)\n",
    "\n",
    "if params_b.net == 'resnet18':\n",
    "    model_b = torchvision.models.resnet18(num_classes=10)\n",
    "    model_b.conv1 = nn.Conv2d(1, 64, kernel_size=7, stride=2, padding=3,\n",
    "                               bias=False)"
   ]
  },
  {
   "cell_type": "code",
   "execution_count": null,
   "metadata": {},
   "outputs": [],
   "source": [
    "# Get dataloader\n",
    "if params_b.dataset_class_name == 'MNIST':  # current error on LeCun's website\n",
    "    !wget www.di.ens.fr/~lelarge/MNIST.tar.gz\n",
    "    !tar -zxvf MNIST.tar.gz\n",
    "train_loader_b, val_loader_b, test_loader_b = data_load.dataloader(params_b)"
   ]
  },
  {
   "cell_type": "code",
   "execution_count": null,
   "metadata": {},
   "outputs": [],
   "source": [
    "# Train a model\n",
    "model_b = train.get_trained_model(params_b, model_b, train_loader_b, val_loader_b)"
   ]
  },
  {
   "cell_type": "code",
   "execution_count": null,
   "metadata": {},
   "outputs": [],
   "source": [
    "acc_b = test.evaluate(params_b, model_b, test_loader_b)"
   ]
  },
  {
   "cell_type": "markdown",
   "metadata": {},
   "source": [
    "## CASE C: Salt&Pepper Data Noise\n",
    "In this case salt&pepper data noise is injected. <br/>\n",
    "First, these settings are defined. <br/>\n",
    "Second, given these settings, the data is loaded from data_load.py. In this file label and data noise are handled. <br/>\n",
    "Third, a model is trained to classify MNIST."
   ]
  },
  {
   "cell_type": "code",
   "execution_count": null,
   "metadata": {},
   "outputs": [],
   "source": [
    "# General imports, considering MNIST as database, simple ResNet-18 as model\n",
    "dataset = 'MNIST'\n",
    "setting = 'salt_pepper_noise'\n",
    "hp_file = glob.glob(root + '/params/' + dataset + '/' + setting + '.json')[0]\n",
    "with open(hp_file) as json_file:\n",
    "    hp = json.load(json_file)\n",
    "    for k in hp.keys():\n",
    "        print(f\"{k:21}: {hp[k]}\")\n",
    "params_c = utils.Params(hp_file)\n",
    "\n",
    "if params_c.net == 'resnet18':\n",
    "    model_c = torchvision.models.resnet18(num_classes=10)\n",
    "    model_c.conv1 = nn.Conv2d(1, 64, kernel_size=7, stride=2, padding=3,\n",
    "                               bias=False)"
   ]
  },
  {
   "cell_type": "code",
   "execution_count": null,
   "metadata": {},
   "outputs": [],
   "source": [
    "# Get dataloader\n",
    "if params_c.dataset_class_name == 'MNIST':  # current error on LeCun's website\n",
    "    !wget www.di.ens.fr/~lelarge/MNIST.tar.gz\n",
    "    !tar -zxvf MNIST.tar.gz\n",
    "train_loader_c, val_loader_c, test_loader_c = data_load.dataloader(params_c)"
   ]
  },
  {
   "cell_type": "code",
   "execution_count": null,
   "metadata": {},
   "outputs": [],
   "source": [
    "# Train a model\n",
    "model_c = train.get_trained_model(params_c, model_c, train_loader_c, val_loader_c)"
   ]
  },
  {
   "cell_type": "code",
   "execution_count": null,
   "metadata": {},
   "outputs": [],
   "source": [
    "acc_c = test.evaluate(params_c, model_c, test_loader_c)"
   ]
  },
  {
   "cell_type": "markdown",
   "metadata": {},
   "source": [
    "## Conclusion"
   ]
  },
  {
   "cell_type": "code",
   "execution_count": null,
   "metadata": {},
   "outputs": [],
   "source": [
    "print('Default test accuracy: {:.2%}'.format(acc_a))\n",
    "print('Symmetric label noise test accuracy: {:.2%}'.format(acc_b))\n",
    "print('Salt&Pepper test accuracy: {:.2%}'.format(acc_c))"
   ]
  },
  {
   "cell_type": "markdown",
   "metadata": {},
   "source": [
    "## Next Steps\n",
    "Having observed how noise in labels and data can affect performance, various open questions arise. How can such environments be detected? Uncertainty estimation is a popular technique to capture noise. How can the model still be robust? Diverse approaches exist, such as adversarial training. How can, for applications for example, high performance still be achieved? Selective prediction is one method to improve model performance."
   ]
  }
 ],
 "metadata": {
  "kernelspec": {
   "display_name": "Python 3",
   "language": "python",
   "name": "python3"
  },
  "language_info": {
   "codemirror_mode": {
    "name": "ipython",
    "version": 3
   },
   "file_extension": ".py",
   "mimetype": "text/x-python",
   "name": "python",
   "nbconvert_exporter": "python",
   "pygments_lexer": "ipython3",
   "version": "3.7.9"
  }
 },
 "nbformat": 4,
 "nbformat_minor": 4
}
